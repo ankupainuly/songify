{
 "cells": [
  {
   "cell_type": "markdown",
   "metadata": {
    "id": "uzdLw9-RWMfi",
    "tags": []
   },
   "source": [
    "# Introduction to JupyterLab"
   ]
  },
  {
   "cell_type": "code",
   "execution_count": 1,
   "metadata": {
    "id": "z4i5KJAJWQqs"
   },
   "outputs": [],
   "source": [
    "import numpy as np\n",
    "import pandas as pd\n",
    "import matplotlib.pyplot as plt\n",
    "import seaborn as sns\n",
    "from sklearn.metrics.pairwise import cosine_similarity\n"
   ]
  },
  {
   "cell_type": "code",
   "execution_count": 2,
   "metadata": {
    "colab": {
     "base_uri": "https://localhost:8080/",
     "height": 206
    },
    "id": "siBTVqQkWQ_8",
    "outputId": "f83636a0-94b9-429f-ed2f-f84770161371"
   },
   "outputs": [
    {
     "name": "stderr",
     "output_type": "stream",
     "text": [
      "C:\\Users\\ankur\\AppData\\Local\\Temp\\ipykernel_16712\\1809017595.py:1: DtypeWarning: Columns (0,1,2,4,5,6,7,9,10,11,12,13,15,17,18) have mixed types. Specify dtype option on import or set low_memory=False.\n",
      "  SONGS = pd.read_csv(\"data.csv\")\n"
     ]
    },
    {
     "data": {
      "text/html": [
       "<div>\n",
       "<style scoped>\n",
       "    .dataframe tbody tr th:only-of-type {\n",
       "        vertical-align: middle;\n",
       "    }\n",
       "\n",
       "    .dataframe tbody tr th {\n",
       "        vertical-align: top;\n",
       "    }\n",
       "\n",
       "    .dataframe thead th {\n",
       "        text-align: right;\n",
       "    }\n",
       "</style>\n",
       "<table border=\"1\" class=\"dataframe\">\n",
       "  <thead>\n",
       "    <tr style=\"text-align: right;\">\n",
       "      <th></th>\n",
       "      <th></th>\n",
       "      <th></th>\n",
       "      <th></th>\n",
       "      <th></th>\n",
       "      <th></th>\n",
       "      <th></th>\n",
       "      <th></th>\n",
       "      <th></th>\n",
       "      <th></th>\n",
       "      <th></th>\n",
       "      <th></th>\n",
       "      <th></th>\n",
       "      <th></th>\n",
       "      <th></th>\n",
       "      <th></th>\n",
       "      <th></th>\n",
       "      <th></th>\n",
       "      <th>&lt;&lt;&lt;&lt;&lt;&lt;&lt; HEAD</th>\n",
       "    </tr>\n",
       "  </thead>\n",
       "  <tbody>\n",
       "    <tr>\n",
       "      <th>valence</th>\n",
       "      <th>year</th>\n",
       "      <th>acousticness</th>\n",
       "      <th>artists</th>\n",
       "      <th>danceability</th>\n",
       "      <th>duration_ms</th>\n",
       "      <th>energy</th>\n",
       "      <th>explicit</th>\n",
       "      <th>id</th>\n",
       "      <th>instrumentalness</th>\n",
       "      <th>key</th>\n",
       "      <th>liveness</th>\n",
       "      <th>loudness</th>\n",
       "      <th>mode</th>\n",
       "      <th>name</th>\n",
       "      <th>popularity</th>\n",
       "      <th>release_date</th>\n",
       "      <th>speechiness</th>\n",
       "      <td>tempo</td>\n",
       "    </tr>\n",
       "    <tr>\n",
       "      <th>0.0594</th>\n",
       "      <th>1921</th>\n",
       "      <th>0.982</th>\n",
       "      <th>['Sergei Rachmaninoff', 'James Levine', 'Berliner Philharmoniker']</th>\n",
       "      <th>0.279</th>\n",
       "      <th>831667</th>\n",
       "      <th>0.211</th>\n",
       "      <th>0</th>\n",
       "      <th>4BJqT0PrAfrxzMOxytFOIz</th>\n",
       "      <th>0.878</th>\n",
       "      <th>10</th>\n",
       "      <th>0.665</th>\n",
       "      <th>-20.096</th>\n",
       "      <th>1</th>\n",
       "      <th>Piano Concerto No. 3 in D Minor, Op. 30: III. Finale. Alla breve</th>\n",
       "      <th>4</th>\n",
       "      <th>1921</th>\n",
       "      <th>0.0366</th>\n",
       "      <td>80.954</td>\n",
       "    </tr>\n",
       "    <tr>\n",
       "      <th>0.963</th>\n",
       "      <th>1921</th>\n",
       "      <th>0.732</th>\n",
       "      <th>['Dennis Day']</th>\n",
       "      <th>0.8190000000000001</th>\n",
       "      <th>180533</th>\n",
       "      <th>0.341</th>\n",
       "      <th>0</th>\n",
       "      <th>7xPhfUan2yNtyFG0cUWkt8</th>\n",
       "      <th>0.0</th>\n",
       "      <th>7</th>\n",
       "      <th>0.16</th>\n",
       "      <th>-12.441</th>\n",
       "      <th>1</th>\n",
       "      <th>Clancy Lowered the Boom</th>\n",
       "      <th>5</th>\n",
       "      <th>1921</th>\n",
       "      <th>0.415</th>\n",
       "      <td>60.93600000000001</td>\n",
       "    </tr>\n",
       "    <tr>\n",
       "      <th>0.0394</th>\n",
       "      <th>1921</th>\n",
       "      <th>0.961</th>\n",
       "      <th>['KHP Kridhamardawa Karaton Ngayogyakarta Hadiningrat']</th>\n",
       "      <th>0.328</th>\n",
       "      <th>500062</th>\n",
       "      <th>0.166</th>\n",
       "      <th>0</th>\n",
       "      <th>1o6I8BglA6ylDMrIELygv1</th>\n",
       "      <th>0.913</th>\n",
       "      <th>3</th>\n",
       "      <th>0.101</th>\n",
       "      <th>-14.85</th>\n",
       "      <th>1</th>\n",
       "      <th>Gati Bali</th>\n",
       "      <th>5</th>\n",
       "      <th>1921</th>\n",
       "      <th>0.0339</th>\n",
       "      <td>110.339</td>\n",
       "    </tr>\n",
       "    <tr>\n",
       "      <th>0.165</th>\n",
       "      <th>1921</th>\n",
       "      <th>0.967</th>\n",
       "      <th>['Frank Parker']</th>\n",
       "      <th>0.275</th>\n",
       "      <th>210000</th>\n",
       "      <th>0.309</th>\n",
       "      <th>0</th>\n",
       "      <th>3ftBPsC5vPBKxYSee08FDH</th>\n",
       "      <th>2.77e-05</th>\n",
       "      <th>5</th>\n",
       "      <th>0.381</th>\n",
       "      <th>-9.316</th>\n",
       "      <th>1</th>\n",
       "      <th>Danny Boy</th>\n",
       "      <th>3</th>\n",
       "      <th>1921</th>\n",
       "      <th>0.0354</th>\n",
       "      <td>100.109</td>\n",
       "    </tr>\n",
       "  </tbody>\n",
       "</table>\n",
       "</div>"
      ],
      "text/plain": [
       "                                                                                                                                                                                                                                                                                            <<<<<<< HEAD\n",
       "valence year acousticness artists                                            danceability       duration_ms energy explicit id                     instrumentalness key liveness loudness mode name                                               popularity release_date speechiness              tempo\n",
       "0.0594  1921 0.982        ['Sergei Rachmaninoff', 'James Levine', 'Berlin... 0.279              831667      0.211  0        4BJqT0PrAfrxzMOxytFOIz 0.878            10  0.665    -20.096  1    Piano Concerto No. 3 in D Minor, Op. 30: III. F... 4          1921         0.0366                  80.954\n",
       "0.963   1921 0.732        ['Dennis Day']                                     0.8190000000000001 180533      0.341  0        7xPhfUan2yNtyFG0cUWkt8 0.0              7   0.16     -12.441  1    Clancy Lowered the Boom                            5          1921         0.415        60.93600000000001\n",
       "0.0394  1921 0.961        ['KHP Kridhamardawa Karaton Ngayogyakarta Hadin... 0.328              500062      0.166  0        1o6I8BglA6ylDMrIELygv1 0.913            3   0.101    -14.85   1    Gati Bali                                          5          1921         0.0339                 110.339\n",
       "0.165   1921 0.967        ['Frank Parker']                                   0.275              210000      0.309  0        3ftBPsC5vPBKxYSee08FDH 2.77e-05         5   0.381    -9.316   1    Danny Boy                                          3          1921         0.0354                 100.109"
      ]
     },
     "execution_count": 2,
     "metadata": {},
     "output_type": "execute_result"
    }
   ],
   "source": [
    "SONGS = pd.read_csv(\"data.csv\")\n",
    "SONGS.head()"
   ]
  },
  {
   "cell_type": "code",
   "execution_count": 3,
   "metadata": {
    "colab": {
     "base_uri": "https://localhost:8080/",
     "height": 206
    },
    "id": "9Z5nxXDqtw75",
    "outputId": "eed5da8b-da78-4e75-daab-3fb2659c476b"
   },
   "outputs": [
    {
     "data": {
      "text/html": [
       "<div>\n",
       "<style scoped>\n",
       "    .dataframe tbody tr th:only-of-type {\n",
       "        vertical-align: middle;\n",
       "    }\n",
       "\n",
       "    .dataframe tbody tr th {\n",
       "        vertical-align: top;\n",
       "    }\n",
       "\n",
       "    .dataframe thead th {\n",
       "        text-align: right;\n",
       "    }\n",
       "</style>\n",
       "<table border=\"1\" class=\"dataframe\">\n",
       "  <thead>\n",
       "    <tr style=\"text-align: right;\">\n",
       "      <th></th>\n",
       "      <th></th>\n",
       "      <th></th>\n",
       "      <th></th>\n",
       "      <th></th>\n",
       "      <th></th>\n",
       "      <th></th>\n",
       "      <th></th>\n",
       "      <th></th>\n",
       "      <th></th>\n",
       "      <th></th>\n",
       "      <th></th>\n",
       "      <th></th>\n",
       "      <th></th>\n",
       "      <th></th>\n",
       "      <th></th>\n",
       "      <th></th>\n",
       "      <th></th>\n",
       "      <th>&lt;&lt;&lt;&lt;&lt;&lt;&lt; HEAD</th>\n",
       "    </tr>\n",
       "  </thead>\n",
       "  <tbody>\n",
       "    <tr>\n",
       "      <th>valence</th>\n",
       "      <th>year</th>\n",
       "      <th>acousticness</th>\n",
       "      <th>artists</th>\n",
       "      <th>danceability</th>\n",
       "      <th>duration_ms</th>\n",
       "      <th>energy</th>\n",
       "      <th>explicit</th>\n",
       "      <th>id</th>\n",
       "      <th>instrumentalness</th>\n",
       "      <th>key</th>\n",
       "      <th>liveness</th>\n",
       "      <th>loudness</th>\n",
       "      <th>mode</th>\n",
       "      <th>name</th>\n",
       "      <th>popularity</th>\n",
       "      <th>release_date</th>\n",
       "      <th>speechiness</th>\n",
       "      <td>tempo</td>\n",
       "    </tr>\n",
       "    <tr>\n",
       "      <th>0.0594</th>\n",
       "      <th>1921</th>\n",
       "      <th>0.982</th>\n",
       "      <th>['Sergei Rachmaninoff', 'James Levine', 'Berliner Philharmoniker']</th>\n",
       "      <th>0.279</th>\n",
       "      <th>831667</th>\n",
       "      <th>0.211</th>\n",
       "      <th>0</th>\n",
       "      <th>4BJqT0PrAfrxzMOxytFOIz</th>\n",
       "      <th>0.878</th>\n",
       "      <th>10</th>\n",
       "      <th>0.665</th>\n",
       "      <th>-20.096</th>\n",
       "      <th>1</th>\n",
       "      <th>Piano Concerto No. 3 in D Minor, Op. 30: III. Finale. Alla breve</th>\n",
       "      <th>4</th>\n",
       "      <th>1921</th>\n",
       "      <th>0.0366</th>\n",
       "      <td>80.954</td>\n",
       "    </tr>\n",
       "    <tr>\n",
       "      <th>0.963</th>\n",
       "      <th>1921</th>\n",
       "      <th>0.732</th>\n",
       "      <th>['Dennis Day']</th>\n",
       "      <th>0.8190000000000001</th>\n",
       "      <th>180533</th>\n",
       "      <th>0.341</th>\n",
       "      <th>0</th>\n",
       "      <th>7xPhfUan2yNtyFG0cUWkt8</th>\n",
       "      <th>0.0</th>\n",
       "      <th>7</th>\n",
       "      <th>0.16</th>\n",
       "      <th>-12.441</th>\n",
       "      <th>1</th>\n",
       "      <th>Clancy Lowered the Boom</th>\n",
       "      <th>5</th>\n",
       "      <th>1921</th>\n",
       "      <th>0.415</th>\n",
       "      <td>60.93600000000001</td>\n",
       "    </tr>\n",
       "    <tr>\n",
       "      <th>0.0394</th>\n",
       "      <th>1921</th>\n",
       "      <th>0.961</th>\n",
       "      <th>['KHP Kridhamardawa Karaton Ngayogyakarta Hadiningrat']</th>\n",
       "      <th>0.328</th>\n",
       "      <th>500062</th>\n",
       "      <th>0.166</th>\n",
       "      <th>0</th>\n",
       "      <th>1o6I8BglA6ylDMrIELygv1</th>\n",
       "      <th>0.913</th>\n",
       "      <th>3</th>\n",
       "      <th>0.101</th>\n",
       "      <th>-14.85</th>\n",
       "      <th>1</th>\n",
       "      <th>Gati Bali</th>\n",
       "      <th>5</th>\n",
       "      <th>1921</th>\n",
       "      <th>0.0339</th>\n",
       "      <td>110.339</td>\n",
       "    </tr>\n",
       "    <tr>\n",
       "      <th>0.165</th>\n",
       "      <th>1921</th>\n",
       "      <th>0.967</th>\n",
       "      <th>['Frank Parker']</th>\n",
       "      <th>0.275</th>\n",
       "      <th>210000</th>\n",
       "      <th>0.309</th>\n",
       "      <th>0</th>\n",
       "      <th>3ftBPsC5vPBKxYSee08FDH</th>\n",
       "      <th>2.77e-05</th>\n",
       "      <th>5</th>\n",
       "      <th>0.381</th>\n",
       "      <th>-9.316</th>\n",
       "      <th>1</th>\n",
       "      <th>Danny Boy</th>\n",
       "      <th>3</th>\n",
       "      <th>1921</th>\n",
       "      <th>0.0354</th>\n",
       "      <td>100.109</td>\n",
       "    </tr>\n",
       "  </tbody>\n",
       "</table>\n",
       "</div>"
      ],
      "text/plain": [
       "                                                                                                                                                                                                                                                                                            <<<<<<< HEAD\n",
       "valence year acousticness artists                                            danceability       duration_ms energy explicit id                     instrumentalness key liveness loudness mode name                                               popularity release_date speechiness              tempo\n",
       "0.0594  1921 0.982        ['Sergei Rachmaninoff', 'James Levine', 'Berlin... 0.279              831667      0.211  0        4BJqT0PrAfrxzMOxytFOIz 0.878            10  0.665    -20.096  1    Piano Concerto No. 3 in D Minor, Op. 30: III. F... 4          1921         0.0366                  80.954\n",
       "0.963   1921 0.732        ['Dennis Day']                                     0.8190000000000001 180533      0.341  0        7xPhfUan2yNtyFG0cUWkt8 0.0              7   0.16     -12.441  1    Clancy Lowered the Boom                            5          1921         0.415        60.93600000000001\n",
       "0.0394  1921 0.961        ['KHP Kridhamardawa Karaton Ngayogyakarta Hadin... 0.328              500062      0.166  0        1o6I8BglA6ylDMrIELygv1 0.913            3   0.101    -14.85   1    Gati Bali                                          5          1921         0.0339                 110.339\n",
       "0.165   1921 0.967        ['Frank Parker']                                   0.275              210000      0.309  0        3ftBPsC5vPBKxYSee08FDH 2.77e-05         5   0.381    -9.316   1    Danny Boy                                          3          1921         0.0354                 100.109"
      ]
     },
     "execution_count": 3,
     "metadata": {},
     "output_type": "execute_result"
    }
   ],
   "source": [
    "songs=SONGS.copy()\n",
    "songs=songs.iloc[:,:10]\n",
    "songs.head()"
   ]
  },
  {
   "cell_type": "code",
   "execution_count": 4,
   "metadata": {
    "colab": {
     "base_uri": "https://localhost:8080/",
     "height": 206
    },
    "id": "JW9n9jNPr6qL",
    "outputId": "3b99e3e7-c40d-4841-f5a3-de9218e27be2"
   },
   "outputs": [
    {
     "ename": "TypeError",
     "evalue": "'<=' not supported between instances of 'str' and 'float'",
     "output_type": "error",
     "traceback": [
      "\u001b[1;31m---------------------------------------------------------------------------\u001b[0m",
      "\u001b[1;31mTypeError\u001b[0m                                 Traceback (most recent call last)",
      "Input \u001b[1;32mIn [4]\u001b[0m, in \u001b[0;36m<module>\u001b[1;34m\u001b[0m\n\u001b[0;32m      1\u001b[0m \u001b[38;5;28;01mfor\u001b[39;00m col \u001b[38;5;129;01min\u001b[39;00m songs\u001b[38;5;241m.\u001b[39mcolumns:\n\u001b[1;32m----> 2\u001b[0m   songs[col] \u001b[38;5;241m=\u001b[39m (songs[col] \u001b[38;5;241m-\u001b[39m \u001b[43msongs\u001b[49m\u001b[43m[\u001b[49m\u001b[43mcol\u001b[49m\u001b[43m]\u001b[49m\u001b[38;5;241;43m.\u001b[39;49m\u001b[43mmin\u001b[49m\u001b[43m(\u001b[49m\u001b[43m)\u001b[49m) \u001b[38;5;241m/\u001b[39m (songs[col]\u001b[38;5;241m.\u001b[39mmax() \u001b[38;5;241m-\u001b[39m songs[col]\u001b[38;5;241m.\u001b[39mmin())    \n\u001b[0;32m      3\u001b[0m songs\u001b[38;5;241m.\u001b[39mhead()\n",
      "File \u001b[1;32m~\\AppData\\Local\\Programs\\Python\\Python310\\lib\\site-packages\\pandas\\core\\generic.py:11247\u001b[0m, in \u001b[0;36mNDFrame._add_numeric_operations.<locals>.min\u001b[1;34m(self, axis, skipna, level, numeric_only, **kwargs)\u001b[0m\n\u001b[0;32m  11227\u001b[0m \u001b[38;5;129m@doc\u001b[39m(  \u001b[38;5;66;03m# type: ignore[misc]\u001b[39;00m\n\u001b[0;32m  11228\u001b[0m     _num_doc,\n\u001b[0;32m  11229\u001b[0m     desc\u001b[38;5;241m=\u001b[39m\u001b[38;5;124m\"\u001b[39m\u001b[38;5;124mReturn the minimum of the values over the requested axis.\u001b[39m\u001b[38;5;130;01m\\n\u001b[39;00m\u001b[38;5;130;01m\\n\u001b[39;00m\u001b[38;5;124m\"\u001b[39m\n\u001b[1;32m   (...)\u001b[0m\n\u001b[0;32m  11245\u001b[0m     \u001b[38;5;241m*\u001b[39m\u001b[38;5;241m*\u001b[39mkwargs,\n\u001b[0;32m  11246\u001b[0m ):\n\u001b[1;32m> 11247\u001b[0m     \u001b[38;5;28;01mreturn\u001b[39;00m NDFrame\u001b[38;5;241m.\u001b[39mmin(\u001b[38;5;28mself\u001b[39m, axis, skipna, level, numeric_only, \u001b[38;5;241m*\u001b[39m\u001b[38;5;241m*\u001b[39mkwargs)\n",
      "File \u001b[1;32m~\\AppData\\Local\\Programs\\Python\\Python310\\lib\\site-packages\\pandas\\core\\generic.py:10661\u001b[0m, in \u001b[0;36mNDFrame.min\u001b[1;34m(self, axis, skipna, level, numeric_only, **kwargs)\u001b[0m\n\u001b[0;32m  10653\u001b[0m \u001b[38;5;28;01mdef\u001b[39;00m \u001b[38;5;21mmin\u001b[39m(\n\u001b[0;32m  10654\u001b[0m     \u001b[38;5;28mself\u001b[39m,\n\u001b[0;32m  10655\u001b[0m     axis: Axis \u001b[38;5;241m|\u001b[39m \u001b[38;5;28;01mNone\u001b[39;00m \u001b[38;5;241m|\u001b[39m lib\u001b[38;5;241m.\u001b[39mNoDefault \u001b[38;5;241m=\u001b[39m lib\u001b[38;5;241m.\u001b[39mno_default,\n\u001b[1;32m   (...)\u001b[0m\n\u001b[0;32m  10659\u001b[0m     \u001b[38;5;241m*\u001b[39m\u001b[38;5;241m*\u001b[39mkwargs,\n\u001b[0;32m  10660\u001b[0m ):\n\u001b[1;32m> 10661\u001b[0m     \u001b[38;5;28;01mreturn\u001b[39;00m \u001b[38;5;28mself\u001b[39m\u001b[38;5;241m.\u001b[39m_stat_function(\n\u001b[0;32m  10662\u001b[0m         \u001b[38;5;124m\"\u001b[39m\u001b[38;5;124mmin\u001b[39m\u001b[38;5;124m\"\u001b[39m,\n\u001b[0;32m  10663\u001b[0m         nanops\u001b[38;5;241m.\u001b[39mnanmin,\n\u001b[0;32m  10664\u001b[0m         axis,\n\u001b[0;32m  10665\u001b[0m         skipna,\n\u001b[0;32m  10666\u001b[0m         level,\n\u001b[0;32m  10667\u001b[0m         numeric_only,\n\u001b[0;32m  10668\u001b[0m         \u001b[38;5;241m*\u001b[39m\u001b[38;5;241m*\u001b[39mkwargs,\n\u001b[0;32m  10669\u001b[0m     )\n",
      "File \u001b[1;32m~\\AppData\\Local\\Programs\\Python\\Python310\\lib\\site-packages\\pandas\\core\\generic.py:10649\u001b[0m, in \u001b[0;36mNDFrame._stat_function\u001b[1;34m(self, name, func, axis, skipna, level, numeric_only, **kwargs)\u001b[0m\n\u001b[0;32m  10639\u001b[0m     warnings\u001b[38;5;241m.\u001b[39mwarn(\n\u001b[0;32m  10640\u001b[0m         \u001b[38;5;124m\"\u001b[39m\u001b[38;5;124mUsing the level keyword in DataFrame and Series aggregations is \u001b[39m\u001b[38;5;124m\"\u001b[39m\n\u001b[0;32m  10641\u001b[0m         \u001b[38;5;124m\"\u001b[39m\u001b[38;5;124mdeprecated and will be removed in a future version. Use groupby \u001b[39m\u001b[38;5;124m\"\u001b[39m\n\u001b[1;32m   (...)\u001b[0m\n\u001b[0;32m  10644\u001b[0m         stacklevel\u001b[38;5;241m=\u001b[39mfind_stack_level(),\n\u001b[0;32m  10645\u001b[0m     )\n\u001b[0;32m  10646\u001b[0m     \u001b[38;5;28;01mreturn\u001b[39;00m \u001b[38;5;28mself\u001b[39m\u001b[38;5;241m.\u001b[39m_agg_by_level(\n\u001b[0;32m  10647\u001b[0m         name, axis\u001b[38;5;241m=\u001b[39maxis, level\u001b[38;5;241m=\u001b[39mlevel, skipna\u001b[38;5;241m=\u001b[39mskipna, numeric_only\u001b[38;5;241m=\u001b[39mnumeric_only\n\u001b[0;32m  10648\u001b[0m     )\n\u001b[1;32m> 10649\u001b[0m \u001b[38;5;28;01mreturn\u001b[39;00m \u001b[38;5;28;43mself\u001b[39;49m\u001b[38;5;241;43m.\u001b[39;49m\u001b[43m_reduce\u001b[49m\u001b[43m(\u001b[49m\n\u001b[0;32m  10650\u001b[0m \u001b[43m    \u001b[49m\u001b[43mfunc\u001b[49m\u001b[43m,\u001b[49m\u001b[43m \u001b[49m\u001b[43mname\u001b[49m\u001b[38;5;241;43m=\u001b[39;49m\u001b[43mname\u001b[49m\u001b[43m,\u001b[49m\u001b[43m \u001b[49m\u001b[43maxis\u001b[49m\u001b[38;5;241;43m=\u001b[39;49m\u001b[43maxis\u001b[49m\u001b[43m,\u001b[49m\u001b[43m \u001b[49m\u001b[43mskipna\u001b[49m\u001b[38;5;241;43m=\u001b[39;49m\u001b[43mskipna\u001b[49m\u001b[43m,\u001b[49m\u001b[43m \u001b[49m\u001b[43mnumeric_only\u001b[49m\u001b[38;5;241;43m=\u001b[39;49m\u001b[43mnumeric_only\u001b[49m\n\u001b[0;32m  10651\u001b[0m \u001b[43m\u001b[49m\u001b[43m)\u001b[49m\n",
      "File \u001b[1;32m~\\AppData\\Local\\Programs\\Python\\Python310\\lib\\site-packages\\pandas\\core\\series.py:4468\u001b[0m, in \u001b[0;36mSeries._reduce\u001b[1;34m(self, op, name, axis, skipna, numeric_only, filter_type, **kwds)\u001b[0m\n\u001b[0;32m   4464\u001b[0m     \u001b[38;5;28;01mraise\u001b[39;00m \u001b[38;5;167;01mNotImplementedError\u001b[39;00m(\n\u001b[0;32m   4465\u001b[0m         \u001b[38;5;124mf\u001b[39m\u001b[38;5;124m\"\u001b[39m\u001b[38;5;124mSeries.\u001b[39m\u001b[38;5;132;01m{\u001b[39;00mname\u001b[38;5;132;01m}\u001b[39;00m\u001b[38;5;124m does not implement \u001b[39m\u001b[38;5;132;01m{\u001b[39;00mkwd_name\u001b[38;5;132;01m}\u001b[39;00m\u001b[38;5;124m.\u001b[39m\u001b[38;5;124m\"\u001b[39m\n\u001b[0;32m   4466\u001b[0m     )\n\u001b[0;32m   4467\u001b[0m \u001b[38;5;28;01mwith\u001b[39;00m np\u001b[38;5;241m.\u001b[39merrstate(\u001b[38;5;28mall\u001b[39m\u001b[38;5;241m=\u001b[39m\u001b[38;5;124m\"\u001b[39m\u001b[38;5;124mignore\u001b[39m\u001b[38;5;124m\"\u001b[39m):\n\u001b[1;32m-> 4468\u001b[0m     \u001b[38;5;28;01mreturn\u001b[39;00m op(delegate, skipna\u001b[38;5;241m=\u001b[39mskipna, \u001b[38;5;241m*\u001b[39m\u001b[38;5;241m*\u001b[39mkwds)\n",
      "File \u001b[1;32m~\\AppData\\Local\\Programs\\Python\\Python310\\lib\\site-packages\\pandas\\core\\nanops.py:155\u001b[0m, in \u001b[0;36mbottleneck_switch.__call__.<locals>.f\u001b[1;34m(values, axis, skipna, **kwds)\u001b[0m\n\u001b[0;32m    153\u001b[0m         result \u001b[38;5;241m=\u001b[39m alt(values, axis\u001b[38;5;241m=\u001b[39maxis, skipna\u001b[38;5;241m=\u001b[39mskipna, \u001b[38;5;241m*\u001b[39m\u001b[38;5;241m*\u001b[39mkwds)\n\u001b[0;32m    154\u001b[0m \u001b[38;5;28;01melse\u001b[39;00m:\n\u001b[1;32m--> 155\u001b[0m     result \u001b[38;5;241m=\u001b[39m alt(values, axis\u001b[38;5;241m=\u001b[39maxis, skipna\u001b[38;5;241m=\u001b[39mskipna, \u001b[38;5;241m*\u001b[39m\u001b[38;5;241m*\u001b[39mkwds)\n\u001b[0;32m    157\u001b[0m \u001b[38;5;28;01mreturn\u001b[39;00m result\n",
      "File \u001b[1;32m~\\AppData\\Local\\Programs\\Python\\Python310\\lib\\site-packages\\pandas\\core\\nanops.py:410\u001b[0m, in \u001b[0;36m_datetimelike_compat.<locals>.new_func\u001b[1;34m(values, axis, skipna, mask, **kwargs)\u001b[0m\n\u001b[0;32m    407\u001b[0m \u001b[38;5;28;01mif\u001b[39;00m datetimelike \u001b[38;5;129;01mand\u001b[39;00m mask \u001b[38;5;129;01mis\u001b[39;00m \u001b[38;5;28;01mNone\u001b[39;00m:\n\u001b[0;32m    408\u001b[0m     mask \u001b[38;5;241m=\u001b[39m isna(values)\n\u001b[1;32m--> 410\u001b[0m result \u001b[38;5;241m=\u001b[39m func(values, axis\u001b[38;5;241m=\u001b[39maxis, skipna\u001b[38;5;241m=\u001b[39mskipna, mask\u001b[38;5;241m=\u001b[39mmask, \u001b[38;5;241m*\u001b[39m\u001b[38;5;241m*\u001b[39mkwargs)\n\u001b[0;32m    412\u001b[0m \u001b[38;5;28;01mif\u001b[39;00m datetimelike:\n\u001b[0;32m    413\u001b[0m     result \u001b[38;5;241m=\u001b[39m _wrap_results(result, orig_values\u001b[38;5;241m.\u001b[39mdtype, fill_value\u001b[38;5;241m=\u001b[39miNaT)\n",
      "File \u001b[1;32m~\\AppData\\Local\\Programs\\Python\\Python310\\lib\\site-packages\\pandas\\core\\nanops.py:1043\u001b[0m, in \u001b[0;36m_nanminmax.<locals>.reduction\u001b[1;34m(values, axis, skipna, mask)\u001b[0m\n\u001b[0;32m   1041\u001b[0m         result \u001b[38;5;241m=\u001b[39m np\u001b[38;5;241m.\u001b[39mnan\n\u001b[0;32m   1042\u001b[0m \u001b[38;5;28;01melse\u001b[39;00m:\n\u001b[1;32m-> 1043\u001b[0m     result \u001b[38;5;241m=\u001b[39m \u001b[38;5;28;43mgetattr\u001b[39;49m\u001b[43m(\u001b[49m\u001b[43mvalues\u001b[49m\u001b[43m,\u001b[49m\u001b[43m \u001b[49m\u001b[43mmeth\u001b[49m\u001b[43m)\u001b[49m\u001b[43m(\u001b[49m\u001b[43maxis\u001b[49m\u001b[43m)\u001b[49m\n\u001b[0;32m   1045\u001b[0m result \u001b[38;5;241m=\u001b[39m _maybe_null_out(result, axis, mask, values\u001b[38;5;241m.\u001b[39mshape)\n\u001b[0;32m   1046\u001b[0m \u001b[38;5;28;01mreturn\u001b[39;00m result\n",
      "File \u001b[1;32m~\\AppData\\Local\\Programs\\Python\\Python310\\lib\\site-packages\\numpy\\core\\_methods.py:44\u001b[0m, in \u001b[0;36m_amin\u001b[1;34m(a, axis, out, keepdims, initial, where)\u001b[0m\n\u001b[0;32m     42\u001b[0m \u001b[38;5;28;01mdef\u001b[39;00m \u001b[38;5;21m_amin\u001b[39m(a, axis\u001b[38;5;241m=\u001b[39m\u001b[38;5;28;01mNone\u001b[39;00m, out\u001b[38;5;241m=\u001b[39m\u001b[38;5;28;01mNone\u001b[39;00m, keepdims\u001b[38;5;241m=\u001b[39m\u001b[38;5;28;01mFalse\u001b[39;00m,\n\u001b[0;32m     43\u001b[0m           initial\u001b[38;5;241m=\u001b[39m_NoValue, where\u001b[38;5;241m=\u001b[39m\u001b[38;5;28;01mTrue\u001b[39;00m):\n\u001b[1;32m---> 44\u001b[0m     \u001b[38;5;28;01mreturn\u001b[39;00m \u001b[43mumr_minimum\u001b[49m\u001b[43m(\u001b[49m\u001b[43ma\u001b[49m\u001b[43m,\u001b[49m\u001b[43m \u001b[49m\u001b[43maxis\u001b[49m\u001b[43m,\u001b[49m\u001b[43m \u001b[49m\u001b[38;5;28;43;01mNone\u001b[39;49;00m\u001b[43m,\u001b[49m\u001b[43m \u001b[49m\u001b[43mout\u001b[49m\u001b[43m,\u001b[49m\u001b[43m \u001b[49m\u001b[43mkeepdims\u001b[49m\u001b[43m,\u001b[49m\u001b[43m \u001b[49m\u001b[43minitial\u001b[49m\u001b[43m,\u001b[49m\u001b[43m \u001b[49m\u001b[43mwhere\u001b[49m\u001b[43m)\u001b[49m\n",
      "\u001b[1;31mTypeError\u001b[0m: '<=' not supported between instances of 'str' and 'float'"
     ]
    }
   ],
   "source": [
    "for col in songs.columns:\n",
    "  songs[col] = (songs[col] - songs[col].min()) / (songs[col].max() - songs[col].min())    \n",
    "songs.head()"
   ]
  },
  {
   "cell_type": "code",
   "execution_count": null,
   "metadata": {
    "colab": {
     "base_uri": "https://localhost:8080/",
     "height": 206
    },
    "id": "gamwCAtnWnIU",
    "outputId": "a2810ce3-6bad-4bdf-d8c6-79d6ed2b1e2a"
   },
   "outputs": [],
   "source": [
    "vec=songs.iloc[:,1:]    #making a vector with only  numerical values i.e. skipping all the string values(\"artist\" and \"song_title\")\n",
    "vec.shape\n",
    "vec.head()"
   ]
  },
  {
   "cell_type": "code",
   "execution_count": null,
   "metadata": {
    "colab": {
     "base_uri": "https://localhost:8080/"
    },
    "id": "hNqqWhTrWq8b",
    "outputId": "ca3dd589-47e9-4618-8605-1f53117481b4"
   },
   "outputs": [],
   "source": [
    "sim=cosine_similarity(vec)  #calculating the cosine similarity corresponding to each song\n",
    "sim.shape   #gives a matrix with each row denoting similarity between songs as\n",
    "# sim[1][100] => GIVES THE SIMILARITY SCORE BETWEEN SONG 1 AND SONG 100."
   ]
  },
  {
   "cell_type": "code",
   "execution_count": null,
   "metadata": {
    "id": "pkVjBO00Wv3u"
   },
   "outputs": [],
   "source": [
    "#finds song ID i.e index of song in the csv\n",
    "def find_songId(title):\n",
    "    song_id=songs[SONGS.song_title==title][\"id\"].values[0]\n",
    "    return song_id\n",
    "\n",
    "#finds reccomendations using a given song title\n",
    "def find_recommendations(title):\n",
    "    song_id=find_songId(title)\n",
    "    scores=list(enumerate(sim[song_id]))\n",
    "    sorted_scores=sorted(scores,key=lambda x:x[1],reverse=True)  #sorts all the songs in the list in reverse order (decreasing order)\n",
    "    sorted_scores=sorted_scores[1:]                               #skips the first index as it is the same song with highest similarity\n",
    "    print(len(sorted_scores))\n",
    "    print(scores)\n",
    "    rec_songs=[]\n",
    "    for i in sorted_scores:\n",
    "        indx=i[0]\n",
    "        rec_songs.append(SONGS.loc[indx][\"song_title\"]+\" by \"+SONGS.loc[indx][\"artist\"])       #adds all song title according to the scores found\n",
    "    return rec_songs                                          # returns the songs"
   ]
  },
  {
   "cell_type": "code",
   "execution_count": null,
   "metadata": {
    "id": "_2xOX6J3Wzg8"
   },
   "outputs": [],
   "source": [
    "def recommend_ten(songs_list):          #fetches only the first 10 songs with highest similarity\n",
    "    first_ten=[]\n",
    "    count=0\n",
    "    for song in songs_list:\n",
    "        if count > 9:\n",
    "            break\n",
    "        count+=1\n",
    "        first_ten.append(song)\n",
    "    return first_ten"
   ]
  },
  {
   "cell_type": "code",
   "execution_count": null,
   "metadata": {
    "colab": {
     "base_uri": "https://localhost:8080/"
    },
    "id": "YsKCS1frW219",
    "outputId": "ee96a404-896e-47fd-d425-2901d73cdecd"
   },
   "outputs": [],
   "source": [
    "lst=find_recommendations(\"Poison\")     #example taken\n",
    "m=recommend_ten(lst)\n",
    "m"
   ]
  },
  {
   "cell_type": "code",
   "execution_count": null,
   "metadata": {
    "colab": {
     "base_uri": "https://localhost:8080/"
    },
    "id": "_7dPexKCXEr7",
    "outputId": "3a777ac9-1a41-4674-9c3f-c13fe2813bfa"
   },
   "outputs": [],
   "source": [
    "find_songId(m[0])\n"
   ]
  },
  {
   "cell_type": "code",
   "execution_count": null,
   "metadata": {
    "colab": {
     "base_uri": "https://localhost:8080/"
    },
    "id": "ohwhC6vyXHuk",
    "outputId": "132e1ff6-b717-4c0c-9730-605d0f77e88a"
   },
   "outputs": [],
   "source": [
    "songs.loc[1]    #original songs"
   ]
  },
  {
   "cell_type": "code",
   "execution_count": null,
   "metadata": {
    "colab": {
     "base_uri": "https://localhost:8080/"
    },
    "id": "lXkGIAbWXKRE",
    "outputId": "bc9db736-37d3-4e38-eb97-a79cb5043972"
   },
   "outputs": [],
   "source": [
    "songs.loc[1187] #song with the highest similarity"
   ]
  },
  {
   "cell_type": "code",
   "execution_count": null,
   "metadata": {},
   "outputs": [],
   "source": []
  },
  {
   "cell_type": "code",
   "execution_count": null,
   "metadata": {},
   "outputs": [],
   "source": []
  },
  {
   "cell_type": "code",
   "execution_count": null,
   "metadata": {},
   "outputs": [],
   "source": []
  },
  {
   "cell_type": "code",
   "execution_count": null,
   "metadata": {},
   "outputs": [],
   "source": []
  }
 ],
 "metadata": {
  "anaconda-cloud": {},
  "colab": {
   "collapsed_sections": [],
   "name": "Reccomendations_System.ipynb",
   "provenance": []
  },
  "kernelspec": {
   "display_name": "Python 3 (ipykernel)",
   "language": "python",
   "name": "python3"
  },
  "language_info": {
   "codemirror_mode": {
    "name": "ipython",
    "version": 3
   },
   "file_extension": ".py",
   "mimetype": "text/x-python",
   "name": "python",
   "nbconvert_exporter": "python",
   "pygments_lexer": "ipython3",
   "version": "3.10.2"
  }
 },
 "nbformat": 4,
 "nbformat_minor": 1
}
